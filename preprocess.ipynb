{
  "nbformat": 4,
  "nbformat_minor": 0,
  "metadata": {
    "colab": {
      "name": "preprocess.ipynb",
      "provenance": [],
      "collapsed_sections": []
    },
    "kernelspec": {
      "name": "python3",
      "display_name": "Python 3"
    }
  },
  "cells": [
    {
      "cell_type": "code",
      "metadata": {
        "id": "rlwNjDlNS0_O",
        "colab_type": "code",
        "outputId": "38568267-4135-45d3-d3da-0b0bdca77d66",
        "colab": {
          "base_uri": "https://localhost:8080/",
          "height": 125
        }
      },
      "source": [
        "from google.colab import drive\n",
        "drive.mount('/content/drive')"
      ],
      "execution_count": 0,
      "outputs": [
        {
          "output_type": "stream",
          "text": [
            "Go to this URL in a browser: https://accounts.google.com/o/oauth2/auth?client_id=947318989803-6bn6qk8qdgf4n4g3pfee6491hc0brc4i.apps.googleusercontent.com&redirect_uri=urn%3aietf%3awg%3aoauth%3a2.0%3aoob&response_type=code&scope=email%20https%3a%2f%2fwww.googleapis.com%2fauth%2fdocs.test%20https%3a%2f%2fwww.googleapis.com%2fauth%2fdrive%20https%3a%2f%2fwww.googleapis.com%2fauth%2fdrive.photos.readonly%20https%3a%2f%2fwww.googleapis.com%2fauth%2fpeopleapi.readonly\n",
            "\n",
            "Enter your authorization code:\n",
            "··········\n",
            "Mounted at /content/drive\n"
          ],
          "name": "stdout"
        }
      ]
    },
    {
      "cell_type": "code",
      "metadata": {
        "id": "ekjP0s3qS5rr",
        "colab_type": "code",
        "colab": {}
      },
      "source": [
        "import zipfile\n",
        "import os\n",
        "import pandas as pd"
      ],
      "execution_count": 0,
      "outputs": []
    },
    {
      "cell_type": "code",
      "metadata": {
        "id": "fhMg0W8uTB0V",
        "colab_type": "code",
        "colab": {}
      },
      "source": [
        "PATH = \"/content/drive/My Drive/IE481 데이터 가시화/ABC+MSBAND의 사본/\"\n",
        "ZIP_PATH = \"/content/drive/My Drive/IE481 데이터 가시화/\""
      ],
      "execution_count": 0,
      "outputs": []
    },
    {
      "cell_type": "code",
      "metadata": {
        "id": "nqdV5ABDTDKw",
        "colab_type": "code",
        "colab": {}
      },
      "source": [
        "act_dict = {\n",
        "  0:\"Sleep\", \n",
        "  1: \"SNS\",\n",
        "  2 : \"Video\",\n",
        "  3 : \"Exercise\",\n",
        "  4 : \"Not Classified\",\n",
        "}"
      ],
      "execution_count": 0,
      "outputs": []
    },
    {
      "cell_type": "code",
      "metadata": {
        "id": "tbSBGgdDTF-U",
        "colab_type": "code",
        "colab": {}
      },
      "source": [
        "userIds = []\n",
        "for filename in os.listdir(PATH):\n",
        "  if filename[0]=='P':\n",
        "    userIds.append(filename.split('.')[0])"
      ],
      "execution_count": 0,
      "outputs": []
    },
    {
      "cell_type": "code",
      "metadata": {
        "id": "LcOzbqp_TOA9",
        "colab_type": "code",
        "outputId": "7efa7305-a430-4e0e-d5f8-71138629e0b6",
        "colab": {
          "base_uri": "https://localhost:8080/",
          "height": 34
        }
      },
      "source": [
        "%cd \"/content/drive/My Drive/IE481 데이터 가시화/\""
      ],
      "execution_count": 0,
      "outputs": [
        {
          "output_type": "stream",
          "text": [
            "/content/drive/My Drive/IE481 데이터 가시화\n"
          ],
          "name": "stdout"
        }
      ]
    },
    {
      "cell_type": "code",
      "metadata": {
        "id": "nkkm_mVXTIOX",
        "colab_type": "code",
        "outputId": "85be6c20-99b6-42cb-ebce-35821aa75cc6",
        "colab": {
          "base_uri": "https://localhost:8080/",
          "height": 404
        }
      },
      "source": [
        "# for userId in userIds:\n",
        "#   if userId in os.listdir():\n",
        "#     continue\n",
        "#   print(userId)\n",
        "#   !mkdir $userId\n",
        "#   path_to_zipfile = PATH + userId + \".zip\"\n",
        "#   with zipfile.ZipFile(path_to_zipfile, 'r') as zip_ref:\n",
        "#     zip_ref.extractall(ZIP_PATH + userId)"
      ],
      "execution_count": 0,
      "outputs": [
        {
          "output_type": "stream",
          "text": [
            "P3005\n",
            "P3009\n",
            "P3010\n",
            "P3011\n",
            "P3012\n",
            "P3013\n",
            "P3014\n",
            "P3015\n",
            "P3016\n",
            "P3017\n",
            "P3018\n",
            "P3019\n",
            "P3021\n",
            "P3022\n",
            "P3023\n",
            "P3024\n",
            "P3025\n",
            "P3027\n",
            "P3028\n",
            "P3029\n",
            "P3030\n",
            "P3041\n"
          ],
          "name": "stdout"
        }
      ]
    },
    {
      "cell_type": "code",
      "metadata": {
        "id": "orfx6MYrV8zQ",
        "colab_type": "code",
        "colab": {}
      },
      "source": [
        "def aggregate_dfs(keyword, l, uid):\n",
        "  first = True\n",
        "  df = None\n",
        "  for ll in l:\n",
        "    if keyword in ll:\n",
        "      # print(ll)\n",
        "      if first:\n",
        "        df = pd.read_csv(ZIP_PATH+uid+\"/\"+ll)\n",
        "        first = False\n",
        "      else:\n",
        "        df_ad = pd.read_csv(ZIP_PATH+uid+\"/\"+ll)\n",
        "        df = pd.concat([df, df_ad])\n",
        "  return df\n",
        "def preprocess_mean(d):\n",
        "  newd = d.copy()\n",
        "  newd[\"new_timestamp\"] = pd.to_datetime(newd[\"timestamp\"], unit=\"ms\")\n",
        "  newd.set_index('new_timestamp', drop=True, inplace=True)\n",
        "  dd = newd.resample('1H').mean()\n",
        "  return dd\n",
        "def preprocess_sum(d):\n",
        "  newd = d.copy()\n",
        "  newd[\"new_timestamp\"] = pd.to_datetime(newd[\"timestamp\"], unit=\"ms\")\n",
        "  newd.set_index('new_timestamp', drop=True, inplace=True)\n",
        "  dd = newd.resample('1H').sum()\n",
        "  return dd"
      ],
      "execution_count": 0,
      "outputs": []
    },
    {
      "cell_type": "code",
      "metadata": {
        "id": "jcs_y5HOTaMs",
        "colab_type": "code",
        "outputId": "0efa3b16-e2f7-4568-c68f-e0238e095d0c",
        "colab": {
          "base_uri": "https://localhost:8080/",
          "height": 1000
        }
      },
      "source": [
        "FIRST_USER = True\n",
        "for userId in userIds: \n",
        "  l = os.listdir(userId)\n",
        "  print(userId)\n",
        "\n",
        "  \"\"\"## Location\"\"\"\n",
        "\n",
        "  df = aggregate_dfs(\"Location\", l, userId)\n",
        "  if df is None: continue\n",
        "\n",
        "  df_dropped = df.drop(columns=[\"altitude\", \"speed\", \"accuracy\"])\n",
        "  df_dropped[\"new_timestamp\"] = pd.to_datetime(df_dropped[\"timestamp\"], unit=\"ms\")\n",
        "  df_dropped.set_index('new_timestamp', drop=True, inplace=True)\n",
        "  df_resampled = df_dropped.resample('1H').mean()\n",
        "\n",
        "  \"\"\"## Screen off\"\"\"\n",
        "\n",
        "  df_device = aggregate_dfs(\"DeviceEventEntity\", l, userId)\n",
        "  if df_device is None: continue\n",
        "  df_device[\"screen_type_numeric\"] = df_device[\"type\"] != \"SCREEN_OFF\"\n",
        "  df_device_resampled = preprocess_sum(df_device)\n",
        "\n",
        "  \"\"\"## Physical Activity\"\"\"\n",
        "\n",
        "  df_physical = aggregate_dfs(\"PhysicalActivityEventEntity\", l, userId)\n",
        "  if df_physical is None: continue\n",
        "  df_physical[\"physical_type_numeric\"] = df_physical[\"type\"] != \"STILL\"\n",
        "  df_physical_resampled = preprocess_sum(df_physical)\n",
        "\n",
        "  \"\"\"## Merge\"\"\"\n",
        "\n",
        "  df_resampled = pd.merge(df_resampled, df_device_resampled, left_index=True, right_index=True, how=\"outer\")\n",
        "\n",
        "  \"\"\"## SNS\"\"\"\n",
        "\n",
        "  # df_sns1 = aggregate_dfs(\"AppUsageStatEntity\", l, userId)\n",
        "  # df_sns1[\"SNS\"] = df_sns1[\"name\"]==(\"Facebook\" or \"카카오톡\" or \"Instagram\")\n",
        "  # df_sns1_resampled = preprocess_sum(df_sns1)\n",
        "\n",
        "  df_sns2 = aggregate_dfs(\"AppUsageEventEntity\", l, userId)\n",
        "  if df_sns2 is None: continue\n",
        "  df_sns2[\"SNS\"] = df_sns2[\"name\"].str.contains('Facebook|카카오톡|Instagram') \n",
        "  df_sns2[\"Video\"] = df_sns2[\"name\"].str.contains('Youtube|Netflix|AfreecaTV|Twitch')\n",
        "  df_sns2[\"SNS\"] = df_sns2[\"SNS\"].fillna(0)\n",
        "  df_sns2[\"SNS\"] = df_sns2[\"SNS\"].astype(int)\n",
        "  df_sns2[\"Video\"] = df_sns2[\"Video\"].fillna(0)\n",
        "  df_sns2[\"Video\"] = df_sns2[\"Video\"].astype(int)\n",
        "  df_sns2[\"FOREGROUND\"] = df_sns2[\"type\"]==\"MOVE_TO_FOREGROUND\"\n",
        "  df_sns2[\"SNS_FOREGROUND\"] = df_sns2[\"SNS\"] * df_sns2[\"FOREGROUND\"]\n",
        "  df_sns2[\"Video_FOREGROUND\"] = df_sns2[\"Video\"] * df_sns2[\"FOREGROUND\"]\n",
        "  df_sns2_resampled = preprocess_sum(df_sns2)\n",
        "\n",
        "  \"\"\"## Exercise\"\"\"\n",
        "\n",
        "  df_physical[\"Exercise\"] = df_physical[\"type\"].str.contains(\"WALKING|RUNNING|ON_BICYCLE\")\n",
        "  df_physical[\"Exercise\"] = df_physical[\"Exercise\"].fillna(0)\n",
        "  df_physical_resampled2 = preprocess_sum(df_physical)\n",
        "\n",
        "  \"\"\"## Outside Activity\"\"\"\n",
        "\n",
        "  all_dfs = [df_resampled, df_device_resampled, df_physical_resampled, df_physical_resampled2, df_sns2_resampled]\n",
        "  df_all = all_dfs[0]\n",
        "  for i, df in enumerate(all_dfs):\n",
        "    if i==0: continue\n",
        "    cols_to_use = df.columns.difference(df_all.columns)\n",
        "    df_all = pd.merge(df_all, df[cols_to_use], left_index=True, right_index=True, how='outer')\n",
        "  df_all_filtered = df_all.filter(items=['longitude', 'latitude', \"screen_type_numeric\", \"physical_type_numeric\", \"Exercise\", \"SNS_FOREGROUND\", \"Video_FOREGROUND\"])\n",
        "  df_all_filtered[\"Sleep\"] = df_all_filtered[\"screen_type_numeric\"] * df_all_filtered[\"physical_type_numeric\"]\n",
        "  df_all_filtered[\"Sleep\"].fillna(0)\n",
        "  df_all_filtered[\"Sleep\"] = df_all_filtered[\"Sleep\"]==0\n",
        "  # df_all_filtered[\"activity\"] = df_all_filtered[\"activity\"].astype(int)\n",
        "  if df_all_filtered.dropna().empty:\n",
        "    continue\n",
        "  # df_SVE = df_all_filtered.filter(items=[\"Exercise\", \"SNS_FOREGROUND\", \"Video_FOREGROUND\"])\n",
        "  # df_all_filtered[\"maxi\"] = df_SVE.max(axis=1)\n",
        "  # print(df_all_filtered.columns)\n",
        "  df_all_filtered[\"maxi\"] = df_all_filtered.apply(lambda row:max(row.SNS_FOREGROUND, row.Video_FOREGROUND), axis=1)\n",
        "  # df_sns2[\"maxi\"] = df_sns2[\"maxi\"].fillna(0)\n",
        "  \n",
        "  df_all_filtered[\"SNS\"] = df_all_filtered.apply(lambda row:row.Sleep==0 and row.maxi!=0 and row.maxi==row.SNS_FOREGROUND, axis=1)\n",
        "  df_all_filtered[\"Video\"] = df_all_filtered.apply(lambda row:row.Sleep==0 and row.maxi!=0 and row.maxi==row.Video_FOREGROUND, axis=1)\n",
        "  df_all_filtered[\"Exercise\"] = df_all_filtered.apply(lambda row:row.Sleep==0 and row.maxi!=0 and row.Exercise > row.maxi, axis=1)\n",
        "\n",
        "  df_all_filtered[\"Not Classified\"] = df_all_filtered.apply(lambda row:row.maxi==0 and row.Exercise==0 and row.Sleep==0, axis=1)\n",
        "\n",
        "\n",
        "  # for index, row in df_all_filtered.iterrows(): # we add label column and put motion type information in the column.\n",
        "  #   sns = row['SNS_FOREGROUND']\n",
        "  #   video = row['Video_FOREGROUND']\n",
        "  #   exercise = row['Exercise']\n",
        "  #   maxi = max(sns, video, exercise)\n",
        "  #   if maxi==0 and row['activity']!=0:\n",
        "  #     df_all_filtered.at[index, 'activity'] = 4\n",
        "  #   elif maxi==sns:\n",
        "  #     df_all_filtered.loc[index, 'activity'] = row['activity'] * 1\n",
        "  #   elif maxi==video:\n",
        "  #     print(\"video\")\n",
        "  #     df_all_filtered.loc[index, 'activity'] = row['activity'] * 2\n",
        "    \n",
        "  #   else:\n",
        "  #     df_all_filtered.loc[index, 'activity'] = row['activity'] * 3\n",
        "\n",
        "  df_all_filtered[\"userId\"] = userId\n",
        "  df_all_filtered['time'] = df_all_filtered.index\n",
        "  df_all_filtered.reset_index(drop=True, inplace=True)\n",
        "\n",
        "  if FIRST_USER:\n",
        "    FIRST_USER = False\n",
        "    final_df = df_all_filtered\n",
        "  else:\n",
        "    final_df = pd.concat([final_df, df_all_filtered], axis=0)"
      ],
      "execution_count": 0,
      "outputs": [
        {
          "output_type": "stream",
          "text": [
            "P0701\n",
            "P0702\n",
            "P0703\n",
            "P0704\n",
            "P0705\n",
            "P0706\n",
            "P0707\n",
            "P0708\n",
            "P0709\n",
            "P0710\n",
            "P0711\n",
            "P0712\n",
            "P0713\n",
            "P0714\n",
            "P0715\n",
            "P0716\n",
            "P0717\n",
            "P0718\n",
            "P0719\n",
            "P0721\n",
            "P0722\n",
            "P0723\n",
            "P0724\n",
            "P0725\n",
            "P0726\n",
            "P0727\n",
            "P0728\n",
            "P0729\n",
            "P1501\n",
            "P1502\n",
            "P1503\n",
            "P1504\n",
            "P1505\n",
            "P1506\n",
            "P1507\n",
            "P1508\n",
            "P1509\n",
            "P1510\n",
            "P1511\n",
            "P1514\n",
            "P1515\n",
            "P1516\n",
            "P1517\n",
            "P1518\n",
            "P1519\n",
            "P1520\n",
            "P1521\n",
            "P1522\n",
            "P1523\n",
            "P1525\n",
            "P1526\n",
            "P1527\n",
            "P1541\n",
            "P3001\n",
            "P3002\n",
            "P3003\n",
            "P3005\n",
            "P3007\n",
            "P3008\n",
            "P3009\n"
          ],
          "name": "stdout"
        },
        {
          "output_type": "stream",
          "text": [
            "/usr/local/lib/python3.6/dist-packages/pandas/core/computation/expressions.py:178: UserWarning: evaluating in Python space because the '*' operator is not supported by numexpr for the bool dtype, use '&' instead\n",
            "  f\"evaluating in Python space because the {repr(op_str)} \"\n"
          ],
          "name": "stderr"
        },
        {
          "output_type": "stream",
          "text": [
            "P3010\n",
            "P3011\n",
            "P3012\n",
            "P3013\n",
            "P3014\n",
            "P3015\n",
            "P3016\n",
            "P3017\n",
            "P3018\n",
            "P3019\n",
            "P3021\n",
            "P3022\n",
            "P3023\n",
            "P3024\n",
            "P3025\n",
            "P3027\n",
            "P3028\n",
            "P3029\n",
            "P3030\n",
            "P3041\n"
          ],
          "name": "stdout"
        }
      ]
    },
    {
      "cell_type": "code",
      "metadata": {
        "id": "d1M8g7w17dRp",
        "colab_type": "code",
        "outputId": "413268c6-f6e9-4850-e055-e396b075d66d",
        "colab": {
          "base_uri": "https://localhost:8080/",
          "height": 586
        }
      },
      "source": [
        "final_df"
      ],
      "execution_count": 0,
      "outputs": [
        {
          "output_type": "execute_result",
          "data": {
            "text/html": [
              "<div>\n",
              "<style scoped>\n",
              "    .dataframe tbody tr th:only-of-type {\n",
              "        vertical-align: middle;\n",
              "    }\n",
              "\n",
              "    .dataframe tbody tr th {\n",
              "        vertical-align: top;\n",
              "    }\n",
              "\n",
              "    .dataframe thead th {\n",
              "        text-align: right;\n",
              "    }\n",
              "</style>\n",
              "<table border=\"1\" class=\"dataframe\">\n",
              "  <thead>\n",
              "    <tr style=\"text-align: right;\">\n",
              "      <th></th>\n",
              "      <th>longitude</th>\n",
              "      <th>latitude</th>\n",
              "      <th>screen_type_numeric</th>\n",
              "      <th>physical_type_numeric</th>\n",
              "      <th>Exercise</th>\n",
              "      <th>SNS_FOREGROUND</th>\n",
              "      <th>Video_FOREGROUND</th>\n",
              "      <th>Sleep</th>\n",
              "      <th>maxi</th>\n",
              "      <th>SNS</th>\n",
              "      <th>Video</th>\n",
              "      <th>Not Classified</th>\n",
              "      <th>userId</th>\n",
              "      <th>time</th>\n",
              "    </tr>\n",
              "  </thead>\n",
              "  <tbody>\n",
              "    <tr>\n",
              "      <th>0</th>\n",
              "      <td>127.347642</td>\n",
              "      <td>36.359334</td>\n",
              "      <td>6.0</td>\n",
              "      <td>0.0</td>\n",
              "      <td>False</td>\n",
              "      <td>27.0</td>\n",
              "      <td>0.0</td>\n",
              "      <td>True</td>\n",
              "      <td>27.0</td>\n",
              "      <td>False</td>\n",
              "      <td>False</td>\n",
              "      <td>False</td>\n",
              "      <td>P0701</td>\n",
              "      <td>2019-05-08 00:00:00</td>\n",
              "    </tr>\n",
              "    <tr>\n",
              "      <th>1</th>\n",
              "      <td>127.358407</td>\n",
              "      <td>36.364284</td>\n",
              "      <td>48.0</td>\n",
              "      <td>789.0</td>\n",
              "      <td>True</td>\n",
              "      <td>42.0</td>\n",
              "      <td>0.0</td>\n",
              "      <td>False</td>\n",
              "      <td>42.0</td>\n",
              "      <td>True</td>\n",
              "      <td>False</td>\n",
              "      <td>False</td>\n",
              "      <td>P0701</td>\n",
              "      <td>2019-05-08 01:00:00</td>\n",
              "    </tr>\n",
              "    <tr>\n",
              "      <th>2</th>\n",
              "      <td>127.359732</td>\n",
              "      <td>36.372619</td>\n",
              "      <td>60.0</td>\n",
              "      <td>897.0</td>\n",
              "      <td>True</td>\n",
              "      <td>63.0</td>\n",
              "      <td>0.0</td>\n",
              "      <td>False</td>\n",
              "      <td>63.0</td>\n",
              "      <td>True</td>\n",
              "      <td>False</td>\n",
              "      <td>False</td>\n",
              "      <td>P0701</td>\n",
              "      <td>2019-05-08 02:00:00</td>\n",
              "    </tr>\n",
              "    <tr>\n",
              "      <th>3</th>\n",
              "      <td>NaN</td>\n",
              "      <td>NaN</td>\n",
              "      <td>12.0</td>\n",
              "      <td>33.0</td>\n",
              "      <td>False</td>\n",
              "      <td>27.0</td>\n",
              "      <td>0.0</td>\n",
              "      <td>False</td>\n",
              "      <td>27.0</td>\n",
              "      <td>True</td>\n",
              "      <td>False</td>\n",
              "      <td>False</td>\n",
              "      <td>P0701</td>\n",
              "      <td>2019-05-08 03:00:00</td>\n",
              "    </tr>\n",
              "    <tr>\n",
              "      <th>4</th>\n",
              "      <td>NaN</td>\n",
              "      <td>NaN</td>\n",
              "      <td>0.0</td>\n",
              "      <td>0.0</td>\n",
              "      <td>False</td>\n",
              "      <td>0.0</td>\n",
              "      <td>0.0</td>\n",
              "      <td>True</td>\n",
              "      <td>0.0</td>\n",
              "      <td>False</td>\n",
              "      <td>False</td>\n",
              "      <td>False</td>\n",
              "      <td>P0701</td>\n",
              "      <td>2019-05-08 04:00:00</td>\n",
              "    </tr>\n",
              "    <tr>\n",
              "      <th>...</th>\n",
              "      <td>...</td>\n",
              "      <td>...</td>\n",
              "      <td>...</td>\n",
              "      <td>...</td>\n",
              "      <td>...</td>\n",
              "      <td>...</td>\n",
              "      <td>...</td>\n",
              "      <td>...</td>\n",
              "      <td>...</td>\n",
              "      <td>...</td>\n",
              "      <td>...</td>\n",
              "      <td>...</td>\n",
              "      <td>...</td>\n",
              "      <td>...</td>\n",
              "    </tr>\n",
              "    <tr>\n",
              "      <th>163</th>\n",
              "      <td>NaN</td>\n",
              "      <td>NaN</td>\n",
              "      <td>0.0</td>\n",
              "      <td>0.0</td>\n",
              "      <td>False</td>\n",
              "      <td>0.0</td>\n",
              "      <td>0.0</td>\n",
              "      <td>True</td>\n",
              "      <td>0.0</td>\n",
              "      <td>False</td>\n",
              "      <td>False</td>\n",
              "      <td>False</td>\n",
              "      <td>P3041</td>\n",
              "      <td>2019-05-06 19:00:00</td>\n",
              "    </tr>\n",
              "    <tr>\n",
              "      <th>164</th>\n",
              "      <td>127.357410</td>\n",
              "      <td>36.367545</td>\n",
              "      <td>2.0</td>\n",
              "      <td>0.0</td>\n",
              "      <td>False</td>\n",
              "      <td>0.0</td>\n",
              "      <td>0.0</td>\n",
              "      <td>True</td>\n",
              "      <td>0.0</td>\n",
              "      <td>False</td>\n",
              "      <td>False</td>\n",
              "      <td>False</td>\n",
              "      <td>P3041</td>\n",
              "      <td>2019-05-06 20:00:00</td>\n",
              "    </tr>\n",
              "    <tr>\n",
              "      <th>165</th>\n",
              "      <td>127.357472</td>\n",
              "      <td>36.367550</td>\n",
              "      <td>0.0</td>\n",
              "      <td>0.0</td>\n",
              "      <td>False</td>\n",
              "      <td>6.0</td>\n",
              "      <td>0.0</td>\n",
              "      <td>True</td>\n",
              "      <td>6.0</td>\n",
              "      <td>False</td>\n",
              "      <td>False</td>\n",
              "      <td>False</td>\n",
              "      <td>P3041</td>\n",
              "      <td>2019-05-06 21:00:00</td>\n",
              "    </tr>\n",
              "    <tr>\n",
              "      <th>166</th>\n",
              "      <td>127.357502</td>\n",
              "      <td>36.367562</td>\n",
              "      <td>NaN</td>\n",
              "      <td>0.0</td>\n",
              "      <td>False</td>\n",
              "      <td>0.0</td>\n",
              "      <td>0.0</td>\n",
              "      <td>False</td>\n",
              "      <td>0.0</td>\n",
              "      <td>False</td>\n",
              "      <td>False</td>\n",
              "      <td>True</td>\n",
              "      <td>P3041</td>\n",
              "      <td>2019-05-06 22:00:00</td>\n",
              "    </tr>\n",
              "    <tr>\n",
              "      <th>167</th>\n",
              "      <td>NaN</td>\n",
              "      <td>NaN</td>\n",
              "      <td>NaN</td>\n",
              "      <td>0.0</td>\n",
              "      <td>False</td>\n",
              "      <td>0.0</td>\n",
              "      <td>0.0</td>\n",
              "      <td>False</td>\n",
              "      <td>0.0</td>\n",
              "      <td>False</td>\n",
              "      <td>False</td>\n",
              "      <td>True</td>\n",
              "      <td>P3041</td>\n",
              "      <td>2019-05-06 23:00:00</td>\n",
              "    </tr>\n",
              "  </tbody>\n",
              "</table>\n",
              "<p>12374 rows × 14 columns</p>\n",
              "</div>"
            ],
            "text/plain": [
              "      longitude   latitude  ...  userId                time\n",
              "0    127.347642  36.359334  ...   P0701 2019-05-08 00:00:00\n",
              "1    127.358407  36.364284  ...   P0701 2019-05-08 01:00:00\n",
              "2    127.359732  36.372619  ...   P0701 2019-05-08 02:00:00\n",
              "3           NaN        NaN  ...   P0701 2019-05-08 03:00:00\n",
              "4           NaN        NaN  ...   P0701 2019-05-08 04:00:00\n",
              "..          ...        ...  ...     ...                 ...\n",
              "163         NaN        NaN  ...   P3041 2019-05-06 19:00:00\n",
              "164  127.357410  36.367545  ...   P3041 2019-05-06 20:00:00\n",
              "165  127.357472  36.367550  ...   P3041 2019-05-06 21:00:00\n",
              "166  127.357502  36.367562  ...   P3041 2019-05-06 22:00:00\n",
              "167         NaN        NaN  ...   P3041 2019-05-06 23:00:00\n",
              "\n",
              "[12374 rows x 14 columns]"
            ]
          },
          "metadata": {
            "tags": []
          },
          "execution_count": 257
        }
      ]
    },
    {
      "cell_type": "code",
      "metadata": {
        "id": "d3TaZJEt9FOe",
        "colab_type": "code",
        "outputId": "507cbc9c-b84c-4417-b57c-9db8717c5423",
        "colab": {
          "base_uri": "https://localhost:8080/",
          "height": 87
        }
      },
      "source": [
        "final_df.columns"
      ],
      "execution_count": 0,
      "outputs": [
        {
          "output_type": "execute_result",
          "data": {
            "text/plain": [
              "Index(['longitude', 'latitude', 'screen_type_numeric', 'physical_type_numeric',\n",
              "       'Exercise', 'SNS_FOREGROUND', 'Video_FOREGROUND', 'Sleep', 'maxi',\n",
              "       'SNS', 'Video', 'Not Classified', 'userId', 'time'],\n",
              "      dtype='object')"
            ]
          },
          "metadata": {
            "tags": []
          },
          "execution_count": 258
        }
      ]
    },
    {
      "cell_type": "code",
      "metadata": {
        "id": "TnQKqS6RcGmZ",
        "colab_type": "code",
        "outputId": "25ea09ba-a0c2-4ecc-a9f6-197038c4fc61",
        "colab": {
          "base_uri": "https://localhost:8080/",
          "height": 195
        }
      },
      "source": [
        "final_final_df = final_df.drop(columns=['screen_type_numeric', 'physical_type_numeric',\n",
        "       'SNS_FOREGROUND', 'Video_FOREGROUND', 'maxi'])\n",
        "final_final_df.head()"
      ],
      "execution_count": 0,
      "outputs": [
        {
          "output_type": "execute_result",
          "data": {
            "text/html": [
              "<div>\n",
              "<style scoped>\n",
              "    .dataframe tbody tr th:only-of-type {\n",
              "        vertical-align: middle;\n",
              "    }\n",
              "\n",
              "    .dataframe tbody tr th {\n",
              "        vertical-align: top;\n",
              "    }\n",
              "\n",
              "    .dataframe thead th {\n",
              "        text-align: right;\n",
              "    }\n",
              "</style>\n",
              "<table border=\"1\" class=\"dataframe\">\n",
              "  <thead>\n",
              "    <tr style=\"text-align: right;\">\n",
              "      <th></th>\n",
              "      <th>longitude</th>\n",
              "      <th>latitude</th>\n",
              "      <th>Exercise</th>\n",
              "      <th>Sleep</th>\n",
              "      <th>SNS</th>\n",
              "      <th>Video</th>\n",
              "      <th>Not Classified</th>\n",
              "      <th>userId</th>\n",
              "      <th>time</th>\n",
              "    </tr>\n",
              "  </thead>\n",
              "  <tbody>\n",
              "    <tr>\n",
              "      <th>0</th>\n",
              "      <td>127.347642</td>\n",
              "      <td>36.359334</td>\n",
              "      <td>False</td>\n",
              "      <td>True</td>\n",
              "      <td>False</td>\n",
              "      <td>False</td>\n",
              "      <td>False</td>\n",
              "      <td>P0701</td>\n",
              "      <td>2019-05-08 00:00:00</td>\n",
              "    </tr>\n",
              "    <tr>\n",
              "      <th>1</th>\n",
              "      <td>127.358407</td>\n",
              "      <td>36.364284</td>\n",
              "      <td>True</td>\n",
              "      <td>False</td>\n",
              "      <td>True</td>\n",
              "      <td>False</td>\n",
              "      <td>False</td>\n",
              "      <td>P0701</td>\n",
              "      <td>2019-05-08 01:00:00</td>\n",
              "    </tr>\n",
              "    <tr>\n",
              "      <th>2</th>\n",
              "      <td>127.359732</td>\n",
              "      <td>36.372619</td>\n",
              "      <td>True</td>\n",
              "      <td>False</td>\n",
              "      <td>True</td>\n",
              "      <td>False</td>\n",
              "      <td>False</td>\n",
              "      <td>P0701</td>\n",
              "      <td>2019-05-08 02:00:00</td>\n",
              "    </tr>\n",
              "    <tr>\n",
              "      <th>3</th>\n",
              "      <td>NaN</td>\n",
              "      <td>NaN</td>\n",
              "      <td>False</td>\n",
              "      <td>False</td>\n",
              "      <td>True</td>\n",
              "      <td>False</td>\n",
              "      <td>False</td>\n",
              "      <td>P0701</td>\n",
              "      <td>2019-05-08 03:00:00</td>\n",
              "    </tr>\n",
              "    <tr>\n",
              "      <th>4</th>\n",
              "      <td>NaN</td>\n",
              "      <td>NaN</td>\n",
              "      <td>False</td>\n",
              "      <td>True</td>\n",
              "      <td>False</td>\n",
              "      <td>False</td>\n",
              "      <td>False</td>\n",
              "      <td>P0701</td>\n",
              "      <td>2019-05-08 04:00:00</td>\n",
              "    </tr>\n",
              "  </tbody>\n",
              "</table>\n",
              "</div>"
            ],
            "text/plain": [
              "    longitude   latitude  Exercise  ...  Not Classified  userId                time\n",
              "0  127.347642  36.359334     False  ...           False   P0701 2019-05-08 00:00:00\n",
              "1  127.358407  36.364284      True  ...           False   P0701 2019-05-08 01:00:00\n",
              "2  127.359732  36.372619      True  ...           False   P0701 2019-05-08 02:00:00\n",
              "3         NaN        NaN     False  ...           False   P0701 2019-05-08 03:00:00\n",
              "4         NaN        NaN     False  ...           False   P0701 2019-05-08 04:00:00\n",
              "\n",
              "[5 rows x 9 columns]"
            ]
          },
          "metadata": {
            "tags": []
          },
          "execution_count": 259
        }
      ]
    },
    {
      "cell_type": "code",
      "metadata": {
        "id": "fPE3LIag96Jn",
        "colab_type": "code",
        "outputId": "7ba86718-6bcf-4bf3-b97e-3b4e8fa7f2aa",
        "colab": {
          "base_uri": "https://localhost:8080/",
          "height": 34
        }
      },
      "source": [
        "final_final_df['Sleep'].sum()"
      ],
      "execution_count": 0,
      "outputs": [
        {
          "output_type": "execute_result",
          "data": {
            "text/plain": [
              "4267"
            ]
          },
          "metadata": {
            "tags": []
          },
          "execution_count": 260
        }
      ]
    },
    {
      "cell_type": "code",
      "metadata": {
        "id": "HJSKTIYQqUxM",
        "colab_type": "code",
        "outputId": "ab7077a0-e0e6-4ef9-f7ac-8ed7925142e0",
        "colab": {
          "base_uri": "https://localhost:8080/",
          "height": 34
        }
      },
      "source": [
        "final_final_df['Video'].sum()"
      ],
      "execution_count": 0,
      "outputs": [
        {
          "output_type": "execute_result",
          "data": {
            "text/plain": [
              "26"
            ]
          },
          "metadata": {
            "tags": []
          },
          "execution_count": 261
        }
      ]
    },
    {
      "cell_type": "code",
      "metadata": {
        "id": "Pz8wONKI97uz",
        "colab_type": "code",
        "outputId": "9ce20ab6-f80c-4f04-afcf-60a8e88333f9",
        "colab": {
          "base_uri": "https://localhost:8080/",
          "height": 34
        }
      },
      "source": [
        "final_final_df['SNS'].sum()"
      ],
      "execution_count": 0,
      "outputs": [
        {
          "output_type": "execute_result",
          "data": {
            "text/plain": [
              "6788"
            ]
          },
          "metadata": {
            "tags": []
          },
          "execution_count": 262
        }
      ]
    },
    {
      "cell_type": "code",
      "metadata": {
        "id": "Puem_2lr99oK",
        "colab_type": "code",
        "outputId": "cf39de58-a909-4844-f87f-933703f00b55",
        "colab": {
          "base_uri": "https://localhost:8080/",
          "height": 34
        }
      },
      "source": [
        "final_final_df['Exercise'].sum()"
      ],
      "execution_count": 0,
      "outputs": [
        {
          "output_type": "execute_result",
          "data": {
            "text/plain": [
              "5370"
            ]
          },
          "metadata": {
            "tags": []
          },
          "execution_count": 263
        }
      ]
    },
    {
      "cell_type": "code",
      "metadata": {
        "id": "Xfl6XGifduMg",
        "colab_type": "code",
        "colab": {}
      },
      "source": [
        "final_final_df.to_csv(\"dataset.csv\")"
      ],
      "execution_count": 0,
      "outputs": []
    },
    {
      "cell_type": "code",
      "metadata": {
        "id": "I35xNJpPABxn",
        "colab_type": "code",
        "colab": {}
      },
      "source": [
        ""
      ],
      "execution_count": 0,
      "outputs": []
    }
  ]
}